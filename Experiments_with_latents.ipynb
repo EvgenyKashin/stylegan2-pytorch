{
 "cells": [
  {
   "cell_type": "code",
   "execution_count": null,
   "metadata": {},
   "outputs": [],
   "source": [
    "import numpy as np\n",
    "from sklearn.decomposition import PCA\n",
    "import torch\n",
    "from torchvision import transforms\n",
    "from model import Generator\n",
    "from dataset import MultiResolutionDataset\n",
    "\n",
    "import matplotlib.pyplot as plt"
   ]
  },
  {
   "cell_type": "code",
   "execution_count": null,
   "metadata": {},
   "outputs": [],
   "source": [
    "transform = transforms.Compose(\n",
    "    [\n",
    "        transforms.ToTensor(),\n",
    "        transforms.Normalize((0.5, 0.5, 0.5), (0.5, 0.5, 0.5),\n",
    "                             inplace=True),\n",
    "    ]\n",
    ")\n",
    "\n",
    "transform_label = transforms.Compose(\n",
    "    [\n",
    "        transforms.ToTensor(),\n",
    "        transforms.Normalize((0.5,), (0.5,), inplace=True),\n",
    "    ]\n",
    ")\n",
    "\n",
    "dataset = MultiResolutionDataset('dataset.lmdb', transform, transform_label,\n",
    "                                 256)"
   ]
  },
  {
   "cell_type": "markdown",
   "metadata": {},
   "source": [
    "~400Mb, 17ms"
   ]
  },
  {
   "cell_type": "code",
   "execution_count": null,
   "metadata": {},
   "outputs": [],
   "source": [
    "generator = Generator(256, 512, 8, 2, architecture='spade').cuda()\n",
    "ckpt = torch.load('checkpoint_256_spade_with_noise/250000.pt')\n",
    "generator.load_state_dict(ckpt['g_ema'])"
   ]
  },
  {
   "cell_type": "code",
   "execution_count": null,
   "metadata": {},
   "outputs": [],
   "source": [
    "def generate_with_w(label, w):\n",
    "    with torch.no_grad():\n",
    "        res = generator(label.unsqueeze(0).cuda(), [w], input_is_latent=True)\n",
    "\n",
    "    res = res[0].cpu()[0].numpy()\n",
    "    res = np.transpose(res, (1, 2, 0))\n",
    "    res = (res * 0.5 + 0.5) * 255\n",
    "    res = np.clip(res, 0, 255).astype(np.uint8)\n",
    "    return res"
   ]
  },
  {
   "cell_type": "markdown",
   "metadata": {},
   "source": [
    "## Examples"
   ]
  },
  {
   "cell_type": "markdown",
   "metadata": {},
   "source": [
    "### Same label different W"
   ]
  },
  {
   "cell_type": "code",
   "execution_count": null,
   "metadata": {},
   "outputs": [],
   "source": [
    "torch.manual_seed(3)\n",
    "\n",
    "z = torch.randn(8, 512, device='cuda')\n",
    "\n",
    "with torch.no_grad():\n",
    "    w = generator.style(z)"
   ]
  },
  {
   "cell_type": "code",
   "execution_count": null,
   "metadata": {},
   "outputs": [],
   "source": [
    "plt.figure(figsize=(10, 10))\n",
    "for i in range(16):\n",
    "    plt.subplot(5, 4, i + 1)\n",
    "    \n",
    "    if i % 2 == 0:\n",
    "        img, label = dataset[5]\n",
    "        plt.imshow(label[0])\n",
    "    else:\n",
    "        res = generate_with_w(label, w[i // 2].unsqueeze(0))\n",
    "        plt.imshow(res)\n",
    "    plt.axis('off')\n",
    "    \n",
    "plt.suptitle('Same pose, different W', y=1.02)\n",
    "plt.tight_layout()"
   ]
  },
  {
   "cell_type": "markdown",
   "metadata": {},
   "source": [
    "### Same W different labels"
   ]
  },
  {
   "cell_type": "code",
   "execution_count": null,
   "metadata": {},
   "outputs": [],
   "source": [
    "torch.manual_seed(16)\n",
    "\n",
    "z = torch.randn(1, 512, device='cuda')\n",
    "\n",
    "with torch.no_grad():\n",
    "    w = generator.style(z)"
   ]
  },
  {
   "cell_type": "code",
   "execution_count": null,
   "metadata": {},
   "outputs": [],
   "source": [
    "plt.figure(figsize=(10, 10))\n",
    "for i in range(16):\n",
    "    plt.subplot(5, 4, i + 1)\n",
    "    \n",
    "    if i % 2 == 0:\n",
    "        img, label = dataset[i + 16]\n",
    "        plt.imshow(label[0])\n",
    "    else:\n",
    "        res = generate_with_w(label, w)\n",
    "        plt.imshow(res)\n",
    "    plt.axis('off')\n",
    "    \n",
    "plt.suptitle('Same W, different poses', y=1.02)\n",
    "plt.tight_layout()"
   ]
  },
  {
   "cell_type": "markdown",
   "metadata": {},
   "source": [
    "## PCA"
   ]
  },
  {
   "cell_type": "code",
   "execution_count": null,
   "metadata": {},
   "outputs": [],
   "source": [
    "z = torch.randn(16384, 512, device='cuda')\n",
    "\n",
    "with torch.no_grad():\n",
    "    w = generator.style(z)"
   ]
  },
  {
   "cell_type": "code",
   "execution_count": null,
   "metadata": {},
   "outputs": [],
   "source": [
    "pca = PCA(512)\n",
    "pca.fit(w.cpu().numpy())"
   ]
  },
  {
   "cell_type": "code",
   "execution_count": null,
   "metadata": {},
   "outputs": [],
   "source": [
    "plt.plot(pca.explained_variance_ratio_[:10])"
   ]
  },
  {
   "cell_type": "markdown",
   "metadata": {},
   "source": [
    "### PCA directions"
   ]
  },
  {
   "cell_type": "code",
   "execution_count": null,
   "metadata": {},
   "outputs": [],
   "source": [
    "torch.manual_seed(2)\n",
    "\n",
    "z = torch.randn(5, 512, device='cuda')\n",
    "\n",
    "with torch.no_grad():\n",
    "    w = generator.style(z)"
   ]
  },
  {
   "cell_type": "code",
   "execution_count": null,
   "metadata": {},
   "outputs": [],
   "source": [
    "direction = pca.components_[2]"
   ]
  },
  {
   "cell_type": "code",
   "execution_count": null,
   "metadata": {},
   "outputs": [],
   "source": [
    "results = []\n",
    "for i, a in enumerate(np.linspace(-4, 4, 7)):\n",
    "    w_new = w + torch.tensor(a * direction).cuda()\n",
    "    row = []\n",
    "    for j in range(5):\n",
    "        img, label = dataset[j]\n",
    "        row.append(generate_with_w(label, w_new[j].unsqueeze(0)))\n",
    "    results.append(row)"
   ]
  },
  {
   "cell_type": "code",
   "execution_count": null,
   "metadata": {
    "scrolled": false
   },
   "outputs": [],
   "source": [
    "plt.figure(figsize=(7, 10))\n",
    "for i, row in enumerate(results):\n",
    "    for j in range(5):\n",
    "        plt.subplot(7, 5, i * 5 + j + 1)\n",
    "        plt.imshow(row[j])\n",
    "        plt.axis('off')\n",
    "plt.tight_layout()\n",
    "plt.suptitle('Third PCA component, from -5 to 5 alpha', y=1.005);"
   ]
  },
  {
   "cell_type": "code",
   "execution_count": null,
   "metadata": {},
   "outputs": [],
   "source": []
  }
 ],
 "metadata": {
  "kernelspec": {
   "display_name": "Python 3",
   "language": "python",
   "name": "python3"
  },
  "language_info": {
   "codemirror_mode": {
    "name": "ipython",
    "version": 3
   },
   "file_extension": ".py",
   "mimetype": "text/x-python",
   "name": "python",
   "nbconvert_exporter": "python",
   "pygments_lexer": "ipython3",
   "version": "3.7.6"
  }
 },
 "nbformat": 4,
 "nbformat_minor": 4
}
